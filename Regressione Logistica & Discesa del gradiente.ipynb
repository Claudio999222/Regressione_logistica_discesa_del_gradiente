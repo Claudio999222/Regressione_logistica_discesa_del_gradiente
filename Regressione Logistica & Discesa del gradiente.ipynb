{
 "cells": [
  {
   "cell_type": "code",
   "execution_count": 1,
   "id": "d4a8a8c0",
   "metadata": {},
   "outputs": [],
   "source": [
    "import numpy as np \n",
    "import matplotlib.pyplot as plt\n",
    "import pandas as pd \n",
    "from scipy.optimize import fmin_tnc"
   ]
  },
  {
   "cell_type": "markdown",
   "id": "657c41e3",
   "metadata": {},
   "source": [
    "## Importiamo il DataSet\n",
    "### In questo dataSet Vedremo:\n",
    "*    Nelle prime 2 colonne i risultati degli ultimi due esami all'universita' di vari studenti\n",
    "*    Nella terza colonna con i valori 1 o 0 se sono stati ammessi all'esame di laurea"
   ]
  },
  {
   "cell_type": "code",
   "execution_count": 2,
   "id": "492b00f9",
   "metadata": {},
   "outputs": [
    {
     "data": {
      "text/html": [
       "<div>\n",
       "<style scoped>\n",
       "    .dataframe tbody tr th:only-of-type {\n",
       "        vertical-align: middle;\n",
       "    }\n",
       "\n",
       "    .dataframe tbody tr th {\n",
       "        vertical-align: top;\n",
       "    }\n",
       "\n",
       "    .dataframe thead th {\n",
       "        text-align: right;\n",
       "    }\n",
       "</style>\n",
       "<table border=\"1\" class=\"dataframe\">\n",
       "  <thead>\n",
       "    <tr style=\"text-align: right;\">\n",
       "      <th></th>\n",
       "      <th>34.62365962451697</th>\n",
       "      <th>78.0246928153624</th>\n",
       "      <th>0</th>\n",
       "    </tr>\n",
       "  </thead>\n",
       "  <tbody>\n",
       "    <tr>\n",
       "      <th>0</th>\n",
       "      <td>30.286711</td>\n",
       "      <td>43.894998</td>\n",
       "      <td>0</td>\n",
       "    </tr>\n",
       "    <tr>\n",
       "      <th>1</th>\n",
       "      <td>35.847409</td>\n",
       "      <td>72.902198</td>\n",
       "      <td>0</td>\n",
       "    </tr>\n",
       "    <tr>\n",
       "      <th>2</th>\n",
       "      <td>60.182599</td>\n",
       "      <td>86.308552</td>\n",
       "      <td>1</td>\n",
       "    </tr>\n",
       "    <tr>\n",
       "      <th>3</th>\n",
       "      <td>79.032736</td>\n",
       "      <td>75.344376</td>\n",
       "      <td>1</td>\n",
       "    </tr>\n",
       "    <tr>\n",
       "      <th>4</th>\n",
       "      <td>45.083277</td>\n",
       "      <td>56.316372</td>\n",
       "      <td>0</td>\n",
       "    </tr>\n",
       "  </tbody>\n",
       "</table>\n",
       "</div>"
      ],
      "text/plain": [
       "   34.62365962451697  78.0246928153624  0\n",
       "0          30.286711         43.894998  0\n",
       "1          35.847409         72.902198  0\n",
       "2          60.182599         86.308552  1\n",
       "3          79.032736         75.344376  1\n",
       "4          45.083277         56.316372  0"
      ]
     },
     "execution_count": 2,
     "metadata": {},
     "output_type": "execute_result"
    }
   ],
   "source": [
    "data = pd.read_csv(r'C:\\Users\\Claud\\OneDrive\\Desktop\\project-a\\MASTER CLASS MACHINE LEARNING\\Regressione lineare\\data\\exams_data.csv')\n",
    "data.head()"
   ]
  },
  {
   "cell_type": "markdown",
   "id": "0c54118a",
   "metadata": {},
   "source": [
    "## Data l'assenza di nomi colonna li creiamo e riaggiungiamo la riga presente al posto di essi "
   ]
  },
  {
   "cell_type": "code",
   "execution_count": 3,
   "id": "267fa2f9",
   "metadata": {},
   "outputs": [
    {
     "name": "stderr",
     "output_type": "stream",
     "text": [
      "C:\\Users\\Claud\\AppData\\Local\\Temp\\ipykernel_17420\\685542195.py:2: FutureWarning: The frame.append method is deprecated and will be removed from pandas in a future version. Use pandas.concat instead.\n",
      "  data = data.append({'1_Esame' : 34.62365962451697, '2_Esame' : 78.0246928153624, 'Ammissione' : 0 }, ignore_index=True)\n"
     ]
    },
    {
     "data": {
      "text/html": [
       "<div>\n",
       "<style scoped>\n",
       "    .dataframe tbody tr th:only-of-type {\n",
       "        vertical-align: middle;\n",
       "    }\n",
       "\n",
       "    .dataframe tbody tr th {\n",
       "        vertical-align: top;\n",
       "    }\n",
       "\n",
       "    .dataframe thead th {\n",
       "        text-align: right;\n",
       "    }\n",
       "</style>\n",
       "<table border=\"1\" class=\"dataframe\">\n",
       "  <thead>\n",
       "    <tr style=\"text-align: right;\">\n",
       "      <th></th>\n",
       "      <th>1_Esame</th>\n",
       "      <th>2_Esame</th>\n",
       "      <th>Ammissione</th>\n",
       "    </tr>\n",
       "  </thead>\n",
       "  <tbody>\n",
       "    <tr>\n",
       "      <th>0</th>\n",
       "      <td>30.286711</td>\n",
       "      <td>43.894998</td>\n",
       "      <td>0.0</td>\n",
       "    </tr>\n",
       "    <tr>\n",
       "      <th>1</th>\n",
       "      <td>35.847409</td>\n",
       "      <td>72.902198</td>\n",
       "      <td>0.0</td>\n",
       "    </tr>\n",
       "    <tr>\n",
       "      <th>2</th>\n",
       "      <td>60.182599</td>\n",
       "      <td>86.308552</td>\n",
       "      <td>1.0</td>\n",
       "    </tr>\n",
       "    <tr>\n",
       "      <th>3</th>\n",
       "      <td>79.032736</td>\n",
       "      <td>75.344376</td>\n",
       "      <td>1.0</td>\n",
       "    </tr>\n",
       "    <tr>\n",
       "      <th>4</th>\n",
       "      <td>45.083277</td>\n",
       "      <td>56.316372</td>\n",
       "      <td>0.0</td>\n",
       "    </tr>\n",
       "  </tbody>\n",
       "</table>\n",
       "</div>"
      ],
      "text/plain": [
       "     1_Esame    2_Esame  Ammissione\n",
       "0  30.286711  43.894998         0.0\n",
       "1  35.847409  72.902198         0.0\n",
       "2  60.182599  86.308552         1.0\n",
       "3  79.032736  75.344376         1.0\n",
       "4  45.083277  56.316372         0.0"
      ]
     },
     "execution_count": 3,
     "metadata": {},
     "output_type": "execute_result"
    }
   ],
   "source": [
    "data.columns = ['1_Esame', '2_Esame', 'Ammissione']\n",
    "data = data.append({'1_Esame' : 34.62365962451697, '2_Esame' : 78.0246928153624, 'Ammissione' : 0 }, ignore_index=True)\n",
    "data.head()"
   ]
  },
  {
   "cell_type": "markdown",
   "id": "d9acf8af",
   "metadata": {},
   "source": [
    "## Definiamo le variabili X , y\n",
    "\n",
    "##  Creo un grafico che ci permette di vedere la struttura dei dati\n",
    "*  Con i Scatter rossi vediamo i non ammessi \n",
    "*  Con i Scatter verdi vediamo gli ammessi\n",
    "\n"
   ]
  },
  {
   "cell_type": "code",
   "execution_count": 4,
   "id": "e76b8392",
   "metadata": {},
   "outputs": [
    {
     "data": {
      "text/plain": [
       "<function matplotlib.pyplot.show(close=None, block=None)>"
      ]
     },
     "execution_count": 4,
     "metadata": {},
     "output_type": "execute_result"
    },
    {
     "data": {
      "image/png": "[encoded data removed]",
      "text/plain": [
       "<Figure size 640x480 with 1 Axes>"
      ]
     },
     "metadata": {},
     "output_type": "display_data"
    }
   ],
   "source": [
    "X = data.iloc[:,:-1]\n",
    "y = data.iloc[:,-1]\n",
    "ammessi = data.loc[data['Ammissione'] == 1]\n",
    "non_ammessi = data.loc[data['Ammissione'] == 0]\n",
    "\n",
    "plt.scatter(ammessi.iloc[:,0], ammessi.iloc[:,1], s=10, label='Ammessi', color='green')\n",
    "plt.scatter(non_ammessi.iloc[:,0], non_ammessi.iloc[:,1], s= 10, label = 'Non Ammessi', color = 'red')\n",
    "plt.legend()\n",
    "plt.show"
   ]
  },
  {
   "cell_type": "markdown",
   "id": "001341c9",
   "metadata": {},
   "source": [
    "###  Aggiungendo la colonna di 1, ogni esempio di input in X avrà come primo valore un 1, che sarà moltiplicato per theta0 per il calcolo del termine di \"bias\"\n",
    "\n",
    "### Trasforma y da una Pandas Series in un array numpy per operazioni o manipolazioni piu efficenti\n",
    "\n",
    "### Inizializzando theta con zeri, stiamo iniziando con dei valori di partenza per i parametri del modello."
   ]
  },
  {
   "cell_type": "code",
   "execution_count": 5,
   "id": "69f82029",
   "metadata": {},
   "outputs": [],
   "source": [
    "X = np.c_[np.ones((X.shape[0], 1)), X]   # è stata aggiunta una colonna di 1 all'inizio dell'array X, ora ogni esempio ha come primo valore un 1, utilizzato di seguito per essere\n",
    "                                         # moltiplicato per il primo parametro (theta0), il \"bias\" del modello\n",
    "y = y.values # trasformo y da una Pandas Series in una lista \n",
    "y = y[:, np.newaxis]\n",
    "theta = np.zeros((X.shape[1],1))"
   ]
  },
  {
   "cell_type": "markdown",
   "id": "e078d78b",
   "metadata": {},
   "source": [
    "### La formula per calcolare la  Regressione Logistica e' =  1 / ( 1 + exp - (Theta0 + Theta1X))\n",
    "\n",
    "###  1) La Sigmoide si utilizza per alzare esponenzialmente (Y) oltre un certo limite (X) l'errore del modello e tale\n",
    "\n",
    "###  funzione si calcola con   = 1 / (1 + exp(-z))\n",
    "\n",
    "###  2) La formula per calcolare funzione di costo e' =  -Y * log(hθ( X)) - (1 - Y) * log(1 - hθ(X))]\n",
    "\n",
    "### Funzione di costo per ogni singolo esempio = -(1/n) * Σ [Y * log(h(θ, X)) + (1 - Y) * log(1 - h(θ, X))]\n",
    "\n",
    "\n",
    "### 3) La formula per calcolare il Gradiente e' = (1/n) * X^T * (hθ(X) - y)\n",
    "\n",
    "### 4) La formula per calcolare la funzione Ipotesi e' = 1 / (1 + exp(-θ^T * x))\n",
    "\n"
   ]
  },
  {
   "cell_type": "code",
   "execution_count": 6,
   "id": "b75efd15",
   "metadata": {},
   "outputs": [],
   "source": [
    "def sigmoide(x):\n",
    "    return 1 / (1 + np.exp(-x))\n",
    "\n",
    "def funz_costo(theta,x ,y):\n",
    "    n = x.shape[0]\n",
    "    costo_totale = -(1 / n) * np.sum(y * np.log(sigmoide(np.dot(x, theta))) + (1 - y) * np.log(1 - sigmoide(np.dot(x, theta))))\n",
    "    return costo_totale\n",
    "\n",
    "def gradiente(theta, x, y):\n",
    "    m = x.shape[0]\n",
    "    return (1 / m) * np.dot(x.T, sigmoide(np.dot(x, theta)) - y)"
   ]
  },
  {
   "cell_type": "markdown",
   "id": "712faf76",
   "metadata": {},
   "source": [
    "## Addestramento modello"
   ]
  },
  {
   "cell_type": "code",
   "execution_count": 7,
   "id": "01de229f",
   "metadata": {},
   "outputs": [],
   "source": [
    "def fit(x, y, theta):\n",
    "    opt_weights = fmin_tnc(func = funz_costo, x0 = theta, fprime=gradiente, args = (x, y.flatten()))\n",
    "    return opt_weights[0]\n",
    "\n",
    "parametri = fit(X, y, theta)"
   ]
  },
  {
   "cell_type": "markdown",
   "id": "b3cda4d1",
   "metadata": {},
   "source": [
    "## Generiamo un grafico nel quale possiamo constatare che la nostra previsione e' la migliore per quanto possibile dalla regressione logistica \n",
    "## (Perche' per quanto possiamo osservare per raggiungere il 100% dell accuratezza delle previsioni del modello avremmo bisogno di una linea con una curvatura)"
   ]
  },
  {
   "cell_type": "code",
   "execution_count": 8,
   "id": "fd910218",
   "metadata": {},
   "outputs": [
    {
     "data": {
      "text/plain": [
       "<function matplotlib.pyplot.show(close=None, block=None)>"
      ]
     },
     "execution_count": 8,
     "metadata": {},
     "output_type": "execute_result"
    },
    {
     "data": {
      "image/png": "[encoded data removed]",
      "text/plain": [
       "<Figure size 640x480 with 1 Axes>"
      ]
     },
     "metadata": {},
     "output_type": "display_data"
    }
   ],
   "source": [
    "x_values = [np.min(X[:,-1]), np.max(X[:,1])]\n",
    "y_values = - (parametri[0] + np.dot(parametri[1], x_values)) / parametri[2]\n",
    "\n",
    "plt.plot(x_values, y_values, label = 'Confine decisionale', color = 'grey', linestyle = '--')\n",
    "plt.xlabel('Esame 1 passato')\n",
    "plt.ylabel('Esame 2 passato')\n",
    "plt.scatter(ammessi.iloc[:,0], ammessi.iloc[:,1], s=10, label = 'Ammessi', color='green')\n",
    "plt.scatter(non_ammessi.iloc[:,0], non_ammessi.iloc[:,1], s=10, label = 'Non ammessi', color = 'red')\n",
    "plt.legend()\n",
    "plt.show\n",
    "\n"
   ]
  },
  {
   "cell_type": "markdown",
   "id": "cc833fb8",
   "metadata": {},
   "source": [
    "### La formula dell ottimizzazione dei parametri con la discesa del gradiente = θ_j - α * ∂J(θ) / ∂θ_j\n",
    "\n",
    "### Mentre per calcolare l'accuratezza: accuratezza = (numero di previsioni corrette) / (numero totale di esempi)"
   ]
  },
  {
   "cell_type": "code",
   "execution_count": 9,
   "id": "3167224f",
   "metadata": {},
   "outputs": [
    {
     "name": "stdout",
     "output_type": "stream",
     "text": [
      "Accuratezza 89.0\n",
      "Parametri ottimizzati [-25.16131867   0.20623159   0.20147149]\n"
     ]
    }
   ],
   "source": [
    "def predizioni(x):\n",
    "    theta = parametri[:, np.newaxis]\n",
    "    return sigmoide(np.dot(x , theta))\n",
    "\n",
    "def accuratezza(x, classi_effettive, soglia_di_probabilita=0.5):\n",
    "    classi_predizione = (predizioni(x) >= soglia_di_probabilita).astype(int)\n",
    "    classi_predizione = classi_predizione.flatten()\n",
    "    accuratezza = np.mean(classi_predizione == classi_effettive)\n",
    "    return accuratezza * 100\n",
    "\n",
    "print('Accuratezza', accuratezza(X, y.flatten()))\n",
    "print('Parametri ottimizzati', parametri)\n",
    "    "
   ]
  },
  {
   "cell_type": "markdown",
   "id": "cf3d5325",
   "metadata": {},
   "source": [
    "### Adesso andremo ad addestrare il nostro modello di regressione logistica utilizzando la libreria Sci-Kit Learn e come possiamo notare dall addestramento del modello l'accuratezza del modello sviluppato con le formule e l'accuratezza del modello addestrato con Sci-Kit Learn sono le stesse "
   ]
  },
  {
   "cell_type": "code",
   "execution_count": 10,
   "id": "d802b732",
   "metadata": {},
   "outputs": [
    {
     "name": "stdout",
     "output_type": "stream",
     "text": [
      "Accuratezza 89.0\n",
      "Parametri: [[0.20535491 0.2005838 ]]\n",
      "Bias: [-25.05219314]\n"
     ]
    }
   ],
   "source": [
    "# implementazione con sci-kit learn:\n",
    "from sklearn.linear_model import LogisticRegression\n",
    "from sklearn.metrics import accuracy_score\n",
    "\n",
    "model = LogisticRegression()\n",
    "\n",
    "X = X[:, 1:]\n",
    "y = np.reshape(y, (len(y), 1))\n",
    "\n",
    "model.fit(X, y.flatten())\n",
    "predicted_classes = model.predict(X)\n",
    "accuracy = accuracy_score(y, predicted_classes)\n",
    "parameters = model.coef_\n",
    "bias = model.intercept_\n",
    "\n",
    "print('Accuratezza', accuracy * 100)\n",
    "print('Parametri:', parameters)\n",
    "print('Bias:', bias)"
   ]
  }
 ],
 "metadata": {
  "kernelspec": {
   "display_name": "Python 3 (ipykernel)",
   "language": "python",
   "name": "python3"
  },
  "language_info": {
   "codemirror_mode": {
    "name": "ipython",
    "version": 3
   },
   "file_extension": ".py",
   "mimetype": "text/x-python",
   "name": "python",
   "nbconvert_exporter": "python",
   "pygments_lexer": "ipython3",
   "version": "3.11.2"
  }
 },
 "nbformat": 4,
 "nbformat_minor": 5
}
